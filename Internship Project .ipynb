{
 "cells": [
  {
   "cell_type": "markdown",
   "id": "83b1a64e",
   "metadata": {},
   "source": [
    "## Internship Project "
   ]
  },
  {
   "cell_type": "code",
   "execution_count": 2,
   "id": "fea8d088",
   "metadata": {},
   "outputs": [],
   "source": [
    "import pandas as pd\n",
    "import numpy as np"
   ]
  },
  {
   "cell_type": "code",
   "execution_count": 3,
   "id": "e7c55998",
   "metadata": {},
   "outputs": [],
   "source": [
    "data=pd.read_excel('US_Accidents_Dec21_.xlsx')"
   ]
  },
  {
   "cell_type": "code",
   "execution_count": 4,
   "id": "c0a13f00",
   "metadata": {},
   "outputs": [
    {
     "data": {
      "text/html": [
       "<div>\n",
       "<style scoped>\n",
       "    .dataframe tbody tr th:only-of-type {\n",
       "        vertical-align: middle;\n",
       "    }\n",
       "\n",
       "    .dataframe tbody tr th {\n",
       "        vertical-align: top;\n",
       "    }\n",
       "\n",
       "    .dataframe thead th {\n",
       "        text-align: right;\n",
       "    }\n",
       "</style>\n",
       "<table border=\"1\" class=\"dataframe\">\n",
       "  <thead>\n",
       "    <tr style=\"text-align: right;\">\n",
       "      <th></th>\n",
       "      <th>ID</th>\n",
       "      <th>Severity</th>\n",
       "      <th>Start_Time</th>\n",
       "      <th>End_Time</th>\n",
       "      <th>Start_Lat</th>\n",
       "      <th>Start_Lng</th>\n",
       "      <th>End_Lat</th>\n",
       "      <th>End_Lng</th>\n",
       "      <th>Distance(mi)</th>\n",
       "      <th>Description</th>\n",
       "      <th>...</th>\n",
       "      <th>Roundabout</th>\n",
       "      <th>Station</th>\n",
       "      <th>Stop</th>\n",
       "      <th>Traffic_Calming</th>\n",
       "      <th>Traffic_Signal</th>\n",
       "      <th>Turning_Loop</th>\n",
       "      <th>Sunrise_Sunset</th>\n",
       "      <th>Civil_Twilight</th>\n",
       "      <th>Nautical_Twilight</th>\n",
       "      <th>Astronomical_Twilight</th>\n",
       "    </tr>\n",
       "  </thead>\n",
       "  <tbody>\n",
       "    <tr>\n",
       "      <th>0</th>\n",
       "      <td>A-1</td>\n",
       "      <td>3</td>\n",
       "      <td>2016-02-08 00:37:00</td>\n",
       "      <td>2016-02-08 06:37:00</td>\n",
       "      <td>40.108910</td>\n",
       "      <td>-83.092860</td>\n",
       "      <td>40.112060</td>\n",
       "      <td>-83.031870</td>\n",
       "      <td>3.230</td>\n",
       "      <td>Between Sawmill Rd/Exit 20 and OH-315/Olentang...</td>\n",
       "      <td>...</td>\n",
       "      <td>False</td>\n",
       "      <td>False</td>\n",
       "      <td>False</td>\n",
       "      <td>False</td>\n",
       "      <td>False</td>\n",
       "      <td>False</td>\n",
       "      <td>Night</td>\n",
       "      <td>Night</td>\n",
       "      <td>Night</td>\n",
       "      <td>Night</td>\n",
       "    </tr>\n",
       "    <tr>\n",
       "      <th>1</th>\n",
       "      <td>A-2</td>\n",
       "      <td>2</td>\n",
       "      <td>2016-02-08 05:56:00</td>\n",
       "      <td>2016-02-08 11:56:00</td>\n",
       "      <td>39.865420</td>\n",
       "      <td>-84.062800</td>\n",
       "      <td>39.865010</td>\n",
       "      <td>-84.048730</td>\n",
       "      <td>0.747</td>\n",
       "      <td>At OH-4/OH-235/Exit 41 - Accident.</td>\n",
       "      <td>...</td>\n",
       "      <td>False</td>\n",
       "      <td>False</td>\n",
       "      <td>False</td>\n",
       "      <td>False</td>\n",
       "      <td>False</td>\n",
       "      <td>False</td>\n",
       "      <td>Night</td>\n",
       "      <td>Night</td>\n",
       "      <td>Night</td>\n",
       "      <td>Night</td>\n",
       "    </tr>\n",
       "    <tr>\n",
       "      <th>2</th>\n",
       "      <td>A-3</td>\n",
       "      <td>2</td>\n",
       "      <td>2016-02-08 06:15:00</td>\n",
       "      <td>2016-02-08 12:15:00</td>\n",
       "      <td>39.102660</td>\n",
       "      <td>-84.524680</td>\n",
       "      <td>39.102090</td>\n",
       "      <td>-84.523960</td>\n",
       "      <td>0.055</td>\n",
       "      <td>At I-71/US-50/Exit 1 - Accident.</td>\n",
       "      <td>...</td>\n",
       "      <td>False</td>\n",
       "      <td>False</td>\n",
       "      <td>False</td>\n",
       "      <td>False</td>\n",
       "      <td>False</td>\n",
       "      <td>False</td>\n",
       "      <td>Night</td>\n",
       "      <td>Night</td>\n",
       "      <td>Night</td>\n",
       "      <td>Day</td>\n",
       "    </tr>\n",
       "    <tr>\n",
       "      <th>3</th>\n",
       "      <td>A-4</td>\n",
       "      <td>2</td>\n",
       "      <td>2016-02-08 06:51:00</td>\n",
       "      <td>2016-02-08 12:51:00</td>\n",
       "      <td>41.062130</td>\n",
       "      <td>-81.537840</td>\n",
       "      <td>41.062170</td>\n",
       "      <td>-81.535470</td>\n",
       "      <td>0.123</td>\n",
       "      <td>At Dart Ave/Exit 21 - Accident.</td>\n",
       "      <td>...</td>\n",
       "      <td>False</td>\n",
       "      <td>False</td>\n",
       "      <td>False</td>\n",
       "      <td>False</td>\n",
       "      <td>False</td>\n",
       "      <td>False</td>\n",
       "      <td>Night</td>\n",
       "      <td>Night</td>\n",
       "      <td>Day</td>\n",
       "      <td>Day</td>\n",
       "    </tr>\n",
       "    <tr>\n",
       "      <th>4</th>\n",
       "      <td>A-5</td>\n",
       "      <td>3</td>\n",
       "      <td>2016-02-08 07:53:00</td>\n",
       "      <td>2016-02-08 13:53:00</td>\n",
       "      <td>39.172393</td>\n",
       "      <td>-84.492792</td>\n",
       "      <td>39.170476</td>\n",
       "      <td>-84.501798</td>\n",
       "      <td>0.500</td>\n",
       "      <td>At Mitchell Ave/Exit 6 - Accident.</td>\n",
       "      <td>...</td>\n",
       "      <td>False</td>\n",
       "      <td>False</td>\n",
       "      <td>False</td>\n",
       "      <td>False</td>\n",
       "      <td>False</td>\n",
       "      <td>False</td>\n",
       "      <td>Day</td>\n",
       "      <td>Day</td>\n",
       "      <td>Day</td>\n",
       "      <td>Day</td>\n",
       "    </tr>\n",
       "    <tr>\n",
       "      <th>...</th>\n",
       "      <td>...</td>\n",
       "      <td>...</td>\n",
       "      <td>...</td>\n",
       "      <td>...</td>\n",
       "      <td>...</td>\n",
       "      <td>...</td>\n",
       "      <td>...</td>\n",
       "      <td>...</td>\n",
       "      <td>...</td>\n",
       "      <td>...</td>\n",
       "      <td>...</td>\n",
       "      <td>...</td>\n",
       "      <td>...</td>\n",
       "      <td>...</td>\n",
       "      <td>...</td>\n",
       "      <td>...</td>\n",
       "      <td>...</td>\n",
       "      <td>...</td>\n",
       "      <td>...</td>\n",
       "      <td>...</td>\n",
       "      <td>...</td>\n",
       "    </tr>\n",
       "    <tr>\n",
       "      <th>1048570</th>\n",
       "      <td>A-1048571</td>\n",
       "      <td>2</td>\n",
       "      <td>2021-08-14 22:52:00</td>\n",
       "      <td>2021-08-14 23:26:00</td>\n",
       "      <td>39.073344</td>\n",
       "      <td>-94.378826</td>\n",
       "      <td>39.077939</td>\n",
       "      <td>-94.380343</td>\n",
       "      <td>0.328</td>\n",
       "      <td>Stationary traffic on MO-291 - MO-78 from E Gu...</td>\n",
       "      <td>...</td>\n",
       "      <td>False</td>\n",
       "      <td>False</td>\n",
       "      <td>False</td>\n",
       "      <td>False</td>\n",
       "      <td>False</td>\n",
       "      <td>False</td>\n",
       "      <td>Night</td>\n",
       "      <td>Night</td>\n",
       "      <td>Night</td>\n",
       "      <td>Night</td>\n",
       "    </tr>\n",
       "    <tr>\n",
       "      <th>1048571</th>\n",
       "      <td>A-1048572</td>\n",
       "      <td>2</td>\n",
       "      <td>2021-07-28 07:40:00</td>\n",
       "      <td>2021-07-28 09:24:00</td>\n",
       "      <td>41.245766</td>\n",
       "      <td>-74.031937</td>\n",
       "      <td>41.212956</td>\n",
       "      <td>-74.032805</td>\n",
       "      <td>2.267</td>\n",
       "      <td>Slow traffic on Palisades Interstate Pkwy S fr...</td>\n",
       "      <td>...</td>\n",
       "      <td>False</td>\n",
       "      <td>False</td>\n",
       "      <td>False</td>\n",
       "      <td>False</td>\n",
       "      <td>False</td>\n",
       "      <td>False</td>\n",
       "      <td>Day</td>\n",
       "      <td>Day</td>\n",
       "      <td>Day</td>\n",
       "      <td>Day</td>\n",
       "    </tr>\n",
       "    <tr>\n",
       "      <th>1048572</th>\n",
       "      <td>A-1048573</td>\n",
       "      <td>2</td>\n",
       "      <td>2021-10-21 10:48:00</td>\n",
       "      <td>2021-10-21 13:27:00</td>\n",
       "      <td>35.185344</td>\n",
       "      <td>-80.898465</td>\n",
       "      <td>35.180070</td>\n",
       "      <td>-80.887227</td>\n",
       "      <td>0.732</td>\n",
       "      <td>Slow traffic from W Tyvola Rd (Billy Graham Pk...</td>\n",
       "      <td>...</td>\n",
       "      <td>False</td>\n",
       "      <td>False</td>\n",
       "      <td>False</td>\n",
       "      <td>False</td>\n",
       "      <td>False</td>\n",
       "      <td>False</td>\n",
       "      <td>Day</td>\n",
       "      <td>Day</td>\n",
       "      <td>Day</td>\n",
       "      <td>Day</td>\n",
       "    </tr>\n",
       "    <tr>\n",
       "      <th>1048573</th>\n",
       "      <td>A-1048574</td>\n",
       "      <td>2</td>\n",
       "      <td>2021-11-12 18:15:00</td>\n",
       "      <td>2021-11-12 19:32:00</td>\n",
       "      <td>25.921157</td>\n",
       "      <td>-80.293117</td>\n",
       "      <td>25.921157</td>\n",
       "      <td>-80.292967</td>\n",
       "      <td>0.009</td>\n",
       "      <td>Incident on NW 163RD ST EB near NW 57TH AVE Dr...</td>\n",
       "      <td>...</td>\n",
       "      <td>False</td>\n",
       "      <td>False</td>\n",
       "      <td>False</td>\n",
       "      <td>False</td>\n",
       "      <td>True</td>\n",
       "      <td>False</td>\n",
       "      <td>Night</td>\n",
       "      <td>Night</td>\n",
       "      <td>Day</td>\n",
       "      <td>Day</td>\n",
       "    </tr>\n",
       "    <tr>\n",
       "      <th>1048574</th>\n",
       "      <td>A-1048575</td>\n",
       "      <td>2</td>\n",
       "      <td>2021-10-12 12:35:00</td>\n",
       "      <td>2021-10-12 15:14:00</td>\n",
       "      <td>38.464179</td>\n",
       "      <td>-121.414198</td>\n",
       "      <td>38.452057</td>\n",
       "      <td>-121.408342</td>\n",
       "      <td>0.895</td>\n",
       "      <td>Accident on Stockton Blvd (CA-99) from Sheldon...</td>\n",
       "      <td>...</td>\n",
       "      <td>False</td>\n",
       "      <td>False</td>\n",
       "      <td>False</td>\n",
       "      <td>False</td>\n",
       "      <td>False</td>\n",
       "      <td>False</td>\n",
       "      <td>Day</td>\n",
       "      <td>Day</td>\n",
       "      <td>Day</td>\n",
       "      <td>Day</td>\n",
       "    </tr>\n",
       "  </tbody>\n",
       "</table>\n",
       "<p>1048575 rows × 47 columns</p>\n",
       "</div>"
      ],
      "text/plain": [
       "                ID  Severity           Start_Time             End_Time  \\\n",
       "0              A-1         3  2016-02-08 00:37:00  2016-02-08 06:37:00   \n",
       "1              A-2         2  2016-02-08 05:56:00  2016-02-08 11:56:00   \n",
       "2              A-3         2  2016-02-08 06:15:00  2016-02-08 12:15:00   \n",
       "3              A-4         2  2016-02-08 06:51:00  2016-02-08 12:51:00   \n",
       "4              A-5         3  2016-02-08 07:53:00  2016-02-08 13:53:00   \n",
       "...            ...       ...                  ...                  ...   \n",
       "1048570  A-1048571         2  2021-08-14 22:52:00  2021-08-14 23:26:00   \n",
       "1048571  A-1048572         2  2021-07-28 07:40:00  2021-07-28 09:24:00   \n",
       "1048572  A-1048573         2  2021-10-21 10:48:00  2021-10-21 13:27:00   \n",
       "1048573  A-1048574         2  2021-11-12 18:15:00  2021-11-12 19:32:00   \n",
       "1048574  A-1048575         2  2021-10-12 12:35:00  2021-10-12 15:14:00   \n",
       "\n",
       "         Start_Lat   Start_Lng    End_Lat     End_Lng  Distance(mi)  \\\n",
       "0        40.108910  -83.092860  40.112060  -83.031870         3.230   \n",
       "1        39.865420  -84.062800  39.865010  -84.048730         0.747   \n",
       "2        39.102660  -84.524680  39.102090  -84.523960         0.055   \n",
       "3        41.062130  -81.537840  41.062170  -81.535470         0.123   \n",
       "4        39.172393  -84.492792  39.170476  -84.501798         0.500   \n",
       "...            ...         ...        ...         ...           ...   \n",
       "1048570  39.073344  -94.378826  39.077939  -94.380343         0.328   \n",
       "1048571  41.245766  -74.031937  41.212956  -74.032805         2.267   \n",
       "1048572  35.185344  -80.898465  35.180070  -80.887227         0.732   \n",
       "1048573  25.921157  -80.293117  25.921157  -80.292967         0.009   \n",
       "1048574  38.464179 -121.414198  38.452057 -121.408342         0.895   \n",
       "\n",
       "                                               Description  ...  Roundabout  \\\n",
       "0        Between Sawmill Rd/Exit 20 and OH-315/Olentang...  ...       False   \n",
       "1                       At OH-4/OH-235/Exit 41 - Accident.  ...       False   \n",
       "2                         At I-71/US-50/Exit 1 - Accident.  ...       False   \n",
       "3                          At Dart Ave/Exit 21 - Accident.  ...       False   \n",
       "4                       At Mitchell Ave/Exit 6 - Accident.  ...       False   \n",
       "...                                                    ...  ...         ...   \n",
       "1048570  Stationary traffic on MO-291 - MO-78 from E Gu...  ...       False   \n",
       "1048571  Slow traffic on Palisades Interstate Pkwy S fr...  ...       False   \n",
       "1048572  Slow traffic from W Tyvola Rd (Billy Graham Pk...  ...       False   \n",
       "1048573  Incident on NW 163RD ST EB near NW 57TH AVE Dr...  ...       False   \n",
       "1048574  Accident on Stockton Blvd (CA-99) from Sheldon...  ...       False   \n",
       "\n",
       "        Station   Stop Traffic_Calming Traffic_Signal Turning_Loop  \\\n",
       "0         False  False           False          False        False   \n",
       "1         False  False           False          False        False   \n",
       "2         False  False           False          False        False   \n",
       "3         False  False           False          False        False   \n",
       "4         False  False           False          False        False   \n",
       "...         ...    ...             ...            ...          ...   \n",
       "1048570   False  False           False          False        False   \n",
       "1048571   False  False           False          False        False   \n",
       "1048572   False  False           False          False        False   \n",
       "1048573   False  False           False           True        False   \n",
       "1048574   False  False           False          False        False   \n",
       "\n",
       "        Sunrise_Sunset Civil_Twilight Nautical_Twilight Astronomical_Twilight  \n",
       "0                Night          Night             Night                 Night  \n",
       "1                Night          Night             Night                 Night  \n",
       "2                Night          Night             Night                   Day  \n",
       "3                Night          Night               Day                   Day  \n",
       "4                  Day            Day               Day                   Day  \n",
       "...                ...            ...               ...                   ...  \n",
       "1048570          Night          Night             Night                 Night  \n",
       "1048571            Day            Day               Day                   Day  \n",
       "1048572            Day            Day               Day                   Day  \n",
       "1048573          Night          Night               Day                   Day  \n",
       "1048574            Day            Day               Day                   Day  \n",
       "\n",
       "[1048575 rows x 47 columns]"
      ]
     },
     "execution_count": 4,
     "metadata": {},
     "output_type": "execute_result"
    }
   ],
   "source": [
    "data"
   ]
  },
  {
   "cell_type": "code",
   "execution_count": null,
   "id": "88d11eb8",
   "metadata": {},
   "outputs": [],
   "source": [
    "data.index()"
   ]
  },
  {
   "cell_type": "code",
   "execution_count": 7,
   "id": "1aa178e3",
   "metadata": {},
   "outputs": [
    {
     "data": {
      "text/plain": [
       "Index(['ID', 'Severity', 'Start_Time', 'End_Time', 'Start_Lat', 'Start_Lng',\n",
       "       'End_Lat', 'End_Lng', 'Distance(mi)', 'Description', 'Number', 'Street',\n",
       "       'Side', 'City', 'County', 'State', 'Zipcode', 'Country', 'Timezone',\n",
       "       'Airport_Code', 'Weather_Timestamp', 'Temperature(F)', 'Wind_Chill(F)',\n",
       "       'Humidity(%)', 'Pressure(in)', 'Visibility(mi)', 'Wind_Direction',\n",
       "       'Wind_Speed(mph)', 'Precipitation(in)', 'Weather_Condition', 'Amenity',\n",
       "       'Bump', 'Crossing', 'Give_Way', 'Junction', 'No_Exit', 'Railway',\n",
       "       'Roundabout', 'Station', 'Stop', 'Traffic_Calming', 'Traffic_Signal',\n",
       "       'Turning_Loop', 'Sunrise_Sunset', 'Civil_Twilight', 'Nautical_Twilight',\n",
       "       'Astronomical_Twilight'],\n",
       "      dtype='object')"
      ]
     },
     "execution_count": 7,
     "metadata": {},
     "output_type": "execute_result"
    }
   ],
   "source": [
    "data.columns"
   ]
  },
  {
   "cell_type": "code",
   "execution_count": 189,
   "id": "f6e4031d",
   "metadata": {},
   "outputs": [
    {
     "data": {
      "text/html": [
       "<div>\n",
       "<style scoped>\n",
       "    .dataframe tbody tr th:only-of-type {\n",
       "        vertical-align: middle;\n",
       "    }\n",
       "\n",
       "    .dataframe tbody tr th {\n",
       "        vertical-align: top;\n",
       "    }\n",
       "\n",
       "    .dataframe thead th {\n",
       "        text-align: right;\n",
       "    }\n",
       "</style>\n",
       "<table border=\"1\" class=\"dataframe\">\n",
       "  <thead>\n",
       "    <tr style=\"text-align: right;\">\n",
       "      <th></th>\n",
       "      <th>ID</th>\n",
       "      <th>Severity</th>\n",
       "      <th>Start_Time</th>\n",
       "      <th>End_Time</th>\n",
       "      <th>Start_Lat</th>\n",
       "      <th>Start_Lng</th>\n",
       "      <th>End_Lat</th>\n",
       "      <th>End_Lng</th>\n",
       "      <th>Distance(mi)</th>\n",
       "      <th>Description</th>\n",
       "      <th>...</th>\n",
       "      <th>Roundabout</th>\n",
       "      <th>Station</th>\n",
       "      <th>Stop</th>\n",
       "      <th>Traffic_Calming</th>\n",
       "      <th>Traffic_Signal</th>\n",
       "      <th>Turning_Loop</th>\n",
       "      <th>Sunrise_Sunset</th>\n",
       "      <th>Civil_Twilight</th>\n",
       "      <th>Nautical_Twilight</th>\n",
       "      <th>Astronomical_Twilight</th>\n",
       "    </tr>\n",
       "  </thead>\n",
       "  <tbody>\n",
       "    <tr>\n",
       "      <th>0</th>\n",
       "      <td>A-1</td>\n",
       "      <td>3</td>\n",
       "      <td>2016-02-08 00:37:00</td>\n",
       "      <td>2016-02-08 06:37:00</td>\n",
       "      <td>40.108910</td>\n",
       "      <td>-83.092860</td>\n",
       "      <td>40.112060</td>\n",
       "      <td>-83.031870</td>\n",
       "      <td>3.230</td>\n",
       "      <td>Between Sawmill Rd/Exit 20 and OH-315/Olentang...</td>\n",
       "      <td>...</td>\n",
       "      <td>False</td>\n",
       "      <td>False</td>\n",
       "      <td>False</td>\n",
       "      <td>False</td>\n",
       "      <td>False</td>\n",
       "      <td>False</td>\n",
       "      <td>Night</td>\n",
       "      <td>Night</td>\n",
       "      <td>Night</td>\n",
       "      <td>Night</td>\n",
       "    </tr>\n",
       "    <tr>\n",
       "      <th>1</th>\n",
       "      <td>A-2</td>\n",
       "      <td>2</td>\n",
       "      <td>2016-02-08 05:56:00</td>\n",
       "      <td>2016-02-08 11:56:00</td>\n",
       "      <td>39.865420</td>\n",
       "      <td>-84.062800</td>\n",
       "      <td>39.865010</td>\n",
       "      <td>-84.048730</td>\n",
       "      <td>0.747</td>\n",
       "      <td>At OH-4/OH-235/Exit 41 - Accident.</td>\n",
       "      <td>...</td>\n",
       "      <td>False</td>\n",
       "      <td>False</td>\n",
       "      <td>False</td>\n",
       "      <td>False</td>\n",
       "      <td>False</td>\n",
       "      <td>False</td>\n",
       "      <td>Night</td>\n",
       "      <td>Night</td>\n",
       "      <td>Night</td>\n",
       "      <td>Night</td>\n",
       "    </tr>\n",
       "    <tr>\n",
       "      <th>2</th>\n",
       "      <td>A-3</td>\n",
       "      <td>2</td>\n",
       "      <td>2016-02-08 06:15:00</td>\n",
       "      <td>2016-02-08 12:15:00</td>\n",
       "      <td>39.102660</td>\n",
       "      <td>-84.524680</td>\n",
       "      <td>39.102090</td>\n",
       "      <td>-84.523960</td>\n",
       "      <td>0.055</td>\n",
       "      <td>At I-71/US-50/Exit 1 - Accident.</td>\n",
       "      <td>...</td>\n",
       "      <td>False</td>\n",
       "      <td>False</td>\n",
       "      <td>False</td>\n",
       "      <td>False</td>\n",
       "      <td>False</td>\n",
       "      <td>False</td>\n",
       "      <td>Night</td>\n",
       "      <td>Night</td>\n",
       "      <td>Night</td>\n",
       "      <td>Day</td>\n",
       "    </tr>\n",
       "    <tr>\n",
       "      <th>3</th>\n",
       "      <td>A-4</td>\n",
       "      <td>2</td>\n",
       "      <td>2016-02-08 06:51:00</td>\n",
       "      <td>2016-02-08 12:51:00</td>\n",
       "      <td>41.062130</td>\n",
       "      <td>-81.537840</td>\n",
       "      <td>41.062170</td>\n",
       "      <td>-81.535470</td>\n",
       "      <td>0.123</td>\n",
       "      <td>At Dart Ave/Exit 21 - Accident.</td>\n",
       "      <td>...</td>\n",
       "      <td>False</td>\n",
       "      <td>False</td>\n",
       "      <td>False</td>\n",
       "      <td>False</td>\n",
       "      <td>False</td>\n",
       "      <td>False</td>\n",
       "      <td>Night</td>\n",
       "      <td>Night</td>\n",
       "      <td>Day</td>\n",
       "      <td>Day</td>\n",
       "    </tr>\n",
       "    <tr>\n",
       "      <th>4</th>\n",
       "      <td>A-5</td>\n",
       "      <td>3</td>\n",
       "      <td>2016-02-08 07:53:00</td>\n",
       "      <td>2016-02-08 13:53:00</td>\n",
       "      <td>39.172393</td>\n",
       "      <td>-84.492792</td>\n",
       "      <td>39.170476</td>\n",
       "      <td>-84.501798</td>\n",
       "      <td>0.500</td>\n",
       "      <td>At Mitchell Ave/Exit 6 - Accident.</td>\n",
       "      <td>...</td>\n",
       "      <td>False</td>\n",
       "      <td>False</td>\n",
       "      <td>False</td>\n",
       "      <td>False</td>\n",
       "      <td>False</td>\n",
       "      <td>False</td>\n",
       "      <td>Day</td>\n",
       "      <td>Day</td>\n",
       "      <td>Day</td>\n",
       "      <td>Day</td>\n",
       "    </tr>\n",
       "  </tbody>\n",
       "</table>\n",
       "<p>5 rows × 47 columns</p>\n",
       "</div>"
      ],
      "text/plain": [
       "    ID  Severity           Start_Time             End_Time  Start_Lat  \\\n",
       "0  A-1         3  2016-02-08 00:37:00  2016-02-08 06:37:00  40.108910   \n",
       "1  A-2         2  2016-02-08 05:56:00  2016-02-08 11:56:00  39.865420   \n",
       "2  A-3         2  2016-02-08 06:15:00  2016-02-08 12:15:00  39.102660   \n",
       "3  A-4         2  2016-02-08 06:51:00  2016-02-08 12:51:00  41.062130   \n",
       "4  A-5         3  2016-02-08 07:53:00  2016-02-08 13:53:00  39.172393   \n",
       "\n",
       "   Start_Lng    End_Lat    End_Lng  Distance(mi)  \\\n",
       "0 -83.092860  40.112060 -83.031870         3.230   \n",
       "1 -84.062800  39.865010 -84.048730         0.747   \n",
       "2 -84.524680  39.102090 -84.523960         0.055   \n",
       "3 -81.537840  41.062170 -81.535470         0.123   \n",
       "4 -84.492792  39.170476 -84.501798         0.500   \n",
       "\n",
       "                                         Description  ...  Roundabout Station  \\\n",
       "0  Between Sawmill Rd/Exit 20 and OH-315/Olentang...  ...       False   False   \n",
       "1                 At OH-4/OH-235/Exit 41 - Accident.  ...       False   False   \n",
       "2                   At I-71/US-50/Exit 1 - Accident.  ...       False   False   \n",
       "3                    At Dart Ave/Exit 21 - Accident.  ...       False   False   \n",
       "4                 At Mitchell Ave/Exit 6 - Accident.  ...       False   False   \n",
       "\n",
       "    Stop Traffic_Calming Traffic_Signal Turning_Loop Sunrise_Sunset  \\\n",
       "0  False           False          False        False          Night   \n",
       "1  False           False          False        False          Night   \n",
       "2  False           False          False        False          Night   \n",
       "3  False           False          False        False          Night   \n",
       "4  False           False          False        False            Day   \n",
       "\n",
       "  Civil_Twilight Nautical_Twilight Astronomical_Twilight  \n",
       "0          Night             Night                 Night  \n",
       "1          Night             Night                 Night  \n",
       "2          Night             Night                   Day  \n",
       "3          Night               Day                   Day  \n",
       "4            Day               Day                   Day  \n",
       "\n",
       "[5 rows x 47 columns]"
      ]
     },
     "execution_count": 189,
     "metadata": {},
     "output_type": "execute_result"
    }
   ],
   "source": [
    "data.head()"
   ]
  },
  {
   "cell_type": "code",
   "execution_count": 190,
   "id": "92ff7f22",
   "metadata": {},
   "outputs": [
    {
     "data": {
      "text/html": [
       "<div>\n",
       "<style scoped>\n",
       "    .dataframe tbody tr th:only-of-type {\n",
       "        vertical-align: middle;\n",
       "    }\n",
       "\n",
       "    .dataframe tbody tr th {\n",
       "        vertical-align: top;\n",
       "    }\n",
       "\n",
       "    .dataframe thead th {\n",
       "        text-align: right;\n",
       "    }\n",
       "</style>\n",
       "<table border=\"1\" class=\"dataframe\">\n",
       "  <thead>\n",
       "    <tr style=\"text-align: right;\">\n",
       "      <th></th>\n",
       "      <th>ID</th>\n",
       "      <th>Severity</th>\n",
       "      <th>Start_Time</th>\n",
       "      <th>End_Time</th>\n",
       "      <th>Start_Lat</th>\n",
       "      <th>Start_Lng</th>\n",
       "      <th>End_Lat</th>\n",
       "      <th>End_Lng</th>\n",
       "      <th>Distance(mi)</th>\n",
       "      <th>Description</th>\n",
       "      <th>...</th>\n",
       "      <th>Roundabout</th>\n",
       "      <th>Station</th>\n",
       "      <th>Stop</th>\n",
       "      <th>Traffic_Calming</th>\n",
       "      <th>Traffic_Signal</th>\n",
       "      <th>Turning_Loop</th>\n",
       "      <th>Sunrise_Sunset</th>\n",
       "      <th>Civil_Twilight</th>\n",
       "      <th>Nautical_Twilight</th>\n",
       "      <th>Astronomical_Twilight</th>\n",
       "    </tr>\n",
       "  </thead>\n",
       "  <tbody>\n",
       "    <tr>\n",
       "      <th>1048570</th>\n",
       "      <td>A-1048571</td>\n",
       "      <td>2</td>\n",
       "      <td>2021-08-14 22:52:00</td>\n",
       "      <td>2021-08-14 23:26:00</td>\n",
       "      <td>39.073344</td>\n",
       "      <td>-94.378826</td>\n",
       "      <td>39.077939</td>\n",
       "      <td>-94.380343</td>\n",
       "      <td>0.328</td>\n",
       "      <td>Stationary traffic on MO-291 - MO-78 from E Gu...</td>\n",
       "      <td>...</td>\n",
       "      <td>False</td>\n",
       "      <td>False</td>\n",
       "      <td>False</td>\n",
       "      <td>False</td>\n",
       "      <td>False</td>\n",
       "      <td>False</td>\n",
       "      <td>Night</td>\n",
       "      <td>Night</td>\n",
       "      <td>Night</td>\n",
       "      <td>Night</td>\n",
       "    </tr>\n",
       "    <tr>\n",
       "      <th>1048571</th>\n",
       "      <td>A-1048572</td>\n",
       "      <td>2</td>\n",
       "      <td>2021-07-28 07:40:00</td>\n",
       "      <td>2021-07-28 09:24:00</td>\n",
       "      <td>41.245766</td>\n",
       "      <td>-74.031937</td>\n",
       "      <td>41.212956</td>\n",
       "      <td>-74.032805</td>\n",
       "      <td>2.267</td>\n",
       "      <td>Slow traffic on Palisades Interstate Pkwy S fr...</td>\n",
       "      <td>...</td>\n",
       "      <td>False</td>\n",
       "      <td>False</td>\n",
       "      <td>False</td>\n",
       "      <td>False</td>\n",
       "      <td>False</td>\n",
       "      <td>False</td>\n",
       "      <td>Day</td>\n",
       "      <td>Day</td>\n",
       "      <td>Day</td>\n",
       "      <td>Day</td>\n",
       "    </tr>\n",
       "    <tr>\n",
       "      <th>1048572</th>\n",
       "      <td>A-1048573</td>\n",
       "      <td>2</td>\n",
       "      <td>2021-10-21 10:48:00</td>\n",
       "      <td>2021-10-21 13:27:00</td>\n",
       "      <td>35.185344</td>\n",
       "      <td>-80.898465</td>\n",
       "      <td>35.180070</td>\n",
       "      <td>-80.887227</td>\n",
       "      <td>0.732</td>\n",
       "      <td>Slow traffic from W Tyvola Rd (Billy Graham Pk...</td>\n",
       "      <td>...</td>\n",
       "      <td>False</td>\n",
       "      <td>False</td>\n",
       "      <td>False</td>\n",
       "      <td>False</td>\n",
       "      <td>False</td>\n",
       "      <td>False</td>\n",
       "      <td>Day</td>\n",
       "      <td>Day</td>\n",
       "      <td>Day</td>\n",
       "      <td>Day</td>\n",
       "    </tr>\n",
       "    <tr>\n",
       "      <th>1048573</th>\n",
       "      <td>A-1048574</td>\n",
       "      <td>2</td>\n",
       "      <td>2021-11-12 18:15:00</td>\n",
       "      <td>2021-11-12 19:32:00</td>\n",
       "      <td>25.921157</td>\n",
       "      <td>-80.293117</td>\n",
       "      <td>25.921157</td>\n",
       "      <td>-80.292967</td>\n",
       "      <td>0.009</td>\n",
       "      <td>Incident on NW 163RD ST EB near NW 57TH AVE Dr...</td>\n",
       "      <td>...</td>\n",
       "      <td>False</td>\n",
       "      <td>False</td>\n",
       "      <td>False</td>\n",
       "      <td>False</td>\n",
       "      <td>True</td>\n",
       "      <td>False</td>\n",
       "      <td>Night</td>\n",
       "      <td>Night</td>\n",
       "      <td>Day</td>\n",
       "      <td>Day</td>\n",
       "    </tr>\n",
       "    <tr>\n",
       "      <th>1048574</th>\n",
       "      <td>A-1048575</td>\n",
       "      <td>2</td>\n",
       "      <td>2021-10-12 12:35:00</td>\n",
       "      <td>2021-10-12 15:14:00</td>\n",
       "      <td>38.464179</td>\n",
       "      <td>-121.414198</td>\n",
       "      <td>38.452057</td>\n",
       "      <td>-121.408342</td>\n",
       "      <td>0.895</td>\n",
       "      <td>Accident on Stockton Blvd (CA-99) from Sheldon...</td>\n",
       "      <td>...</td>\n",
       "      <td>False</td>\n",
       "      <td>False</td>\n",
       "      <td>False</td>\n",
       "      <td>False</td>\n",
       "      <td>False</td>\n",
       "      <td>False</td>\n",
       "      <td>Day</td>\n",
       "      <td>Day</td>\n",
       "      <td>Day</td>\n",
       "      <td>Day</td>\n",
       "    </tr>\n",
       "  </tbody>\n",
       "</table>\n",
       "<p>5 rows × 47 columns</p>\n",
       "</div>"
      ],
      "text/plain": [
       "                ID  Severity           Start_Time             End_Time  \\\n",
       "1048570  A-1048571         2  2021-08-14 22:52:00  2021-08-14 23:26:00   \n",
       "1048571  A-1048572         2  2021-07-28 07:40:00  2021-07-28 09:24:00   \n",
       "1048572  A-1048573         2  2021-10-21 10:48:00  2021-10-21 13:27:00   \n",
       "1048573  A-1048574         2  2021-11-12 18:15:00  2021-11-12 19:32:00   \n",
       "1048574  A-1048575         2  2021-10-12 12:35:00  2021-10-12 15:14:00   \n",
       "\n",
       "         Start_Lat   Start_Lng    End_Lat     End_Lng  Distance(mi)  \\\n",
       "1048570  39.073344  -94.378826  39.077939  -94.380343         0.328   \n",
       "1048571  41.245766  -74.031937  41.212956  -74.032805         2.267   \n",
       "1048572  35.185344  -80.898465  35.180070  -80.887227         0.732   \n",
       "1048573  25.921157  -80.293117  25.921157  -80.292967         0.009   \n",
       "1048574  38.464179 -121.414198  38.452057 -121.408342         0.895   \n",
       "\n",
       "                                               Description  ...  Roundabout  \\\n",
       "1048570  Stationary traffic on MO-291 - MO-78 from E Gu...  ...       False   \n",
       "1048571  Slow traffic on Palisades Interstate Pkwy S fr...  ...       False   \n",
       "1048572  Slow traffic from W Tyvola Rd (Billy Graham Pk...  ...       False   \n",
       "1048573  Incident on NW 163RD ST EB near NW 57TH AVE Dr...  ...       False   \n",
       "1048574  Accident on Stockton Blvd (CA-99) from Sheldon...  ...       False   \n",
       "\n",
       "        Station   Stop Traffic_Calming Traffic_Signal Turning_Loop  \\\n",
       "1048570   False  False           False          False        False   \n",
       "1048571   False  False           False          False        False   \n",
       "1048572   False  False           False          False        False   \n",
       "1048573   False  False           False           True        False   \n",
       "1048574   False  False           False          False        False   \n",
       "\n",
       "        Sunrise_Sunset Civil_Twilight Nautical_Twilight Astronomical_Twilight  \n",
       "1048570          Night          Night             Night                 Night  \n",
       "1048571            Day            Day               Day                   Day  \n",
       "1048572            Day            Day               Day                   Day  \n",
       "1048573          Night          Night               Day                   Day  \n",
       "1048574            Day            Day               Day                   Day  \n",
       "\n",
       "[5 rows x 47 columns]"
      ]
     },
     "execution_count": 190,
     "metadata": {},
     "output_type": "execute_result"
    }
   ],
   "source": [
    "data.tail()"
   ]
  },
  {
   "cell_type": "code",
   "execution_count": 191,
   "id": "2179faa5",
   "metadata": {},
   "outputs": [
    {
     "name": "stdout",
     "output_type": "stream",
     "text": [
      "<class 'pandas.core.frame.DataFrame'>\n",
      "RangeIndex: 1048575 entries, 0 to 1048574\n",
      "Data columns (total 47 columns):\n",
      " #   Column                 Non-Null Count    Dtype         \n",
      "---  ------                 --------------    -----         \n",
      " 0   ID                     1048575 non-null  object        \n",
      " 1   Severity               1048575 non-null  int64         \n",
      " 2   Start_Time             1048575 non-null  object        \n",
      " 3   End_Time               1048575 non-null  object        \n",
      " 4   Start_Lat              1048575 non-null  float64       \n",
      " 5   Start_Lng              1048575 non-null  float64       \n",
      " 6   End_Lat                1048575 non-null  float64       \n",
      " 7   End_Lng                1048575 non-null  float64       \n",
      " 8   Distance(mi)           1048575 non-null  float64       \n",
      " 9   Description            1048575 non-null  object        \n",
      " 10  Number                 433398 non-null   float64       \n",
      " 11  Street                 1048574 non-null  object        \n",
      " 12  Side                   1048575 non-null  object        \n",
      " 13  City                   1048520 non-null  object        \n",
      " 14  County                 1048575 non-null  object        \n",
      " 15  State                  1048575 non-null  object        \n",
      " 16  Zipcode                1048140 non-null  object        \n",
      " 17  Country                1048575 non-null  object        \n",
      " 18  Timezone               1047549 non-null  object        \n",
      " 19  Airport_Code           1044928 non-null  object        \n",
      " 20  Weather_Timestamp      1033059 non-null  datetime64[ns]\n",
      " 21  Temperature(F)         1026829 non-null  float64       \n",
      " 22  Wind_Chill(F)          834453 non-null   float64       \n",
      " 23  Humidity(%)            1025847 non-null  float64       \n",
      " 24  Pressure(in)           1029990 non-null  float64       \n",
      " 25  Visibility(mi)         1026041 non-null  float64       \n",
      " 26  Wind_Direction         1025949 non-null  object        \n",
      " 27  Wind_Speed(mph)        990888 non-null   float64       \n",
      " 28  Precipitation(in)      816892 non-null   float64       \n",
      " 29  Weather_Condition      1025683 non-null  object        \n",
      " 30  Amenity                1048575 non-null  bool          \n",
      " 31  Bump                   1048575 non-null  bool          \n",
      " 32  Crossing               1048575 non-null  bool          \n",
      " 33  Give_Way               1048575 non-null  bool          \n",
      " 34  Junction               1048575 non-null  bool          \n",
      " 35  No_Exit                1048575 non-null  bool          \n",
      " 36  Railway                1048575 non-null  bool          \n",
      " 37  Roundabout             1048575 non-null  bool          \n",
      " 38  Station                1048575 non-null  bool          \n",
      " 39  Stop                   1048575 non-null  bool          \n",
      " 40  Traffic_Calming        1048575 non-null  bool          \n",
      " 41  Traffic_Signal         1048575 non-null  bool          \n",
      " 42  Turning_Loop           1048575 non-null  bool          \n",
      " 43  Sunrise_Sunset         1046913 non-null  object        \n",
      " 44  Civil_Twilight         1046913 non-null  object        \n",
      " 45  Nautical_Twilight      1046913 non-null  object        \n",
      " 46  Astronomical_Twilight  1046913 non-null  object        \n",
      "dtypes: bool(13), datetime64[ns](1), float64(13), int64(1), object(19)\n",
      "memory usage: 285.0+ MB\n"
     ]
    }
   ],
   "source": [
    "data.info()"
   ]
  },
  {
   "cell_type": "code",
   "execution_count": 192,
   "id": "00d817ef",
   "metadata": {},
   "outputs": [
    {
     "data": {
      "text/plain": [
       "<bound method NDFrame.describe of                 ID  Severity           Start_Time             End_Time  \\\n",
       "0              A-1         3  2016-02-08 00:37:00  2016-02-08 06:37:00   \n",
       "1              A-2         2  2016-02-08 05:56:00  2016-02-08 11:56:00   \n",
       "2              A-3         2  2016-02-08 06:15:00  2016-02-08 12:15:00   \n",
       "3              A-4         2  2016-02-08 06:51:00  2016-02-08 12:51:00   \n",
       "4              A-5         3  2016-02-08 07:53:00  2016-02-08 13:53:00   \n",
       "...            ...       ...                  ...                  ...   \n",
       "1048570  A-1048571         2  2021-08-14 22:52:00  2021-08-14 23:26:00   \n",
       "1048571  A-1048572         2  2021-07-28 07:40:00  2021-07-28 09:24:00   \n",
       "1048572  A-1048573         2  2021-10-21 10:48:00  2021-10-21 13:27:00   \n",
       "1048573  A-1048574         2  2021-11-12 18:15:00  2021-11-12 19:32:00   \n",
       "1048574  A-1048575         2  2021-10-12 12:35:00  2021-10-12 15:14:00   \n",
       "\n",
       "         Start_Lat   Start_Lng    End_Lat     End_Lng  Distance(mi)  \\\n",
       "0        40.108910  -83.092860  40.112060  -83.031870         3.230   \n",
       "1        39.865420  -84.062800  39.865010  -84.048730         0.747   \n",
       "2        39.102660  -84.524680  39.102090  -84.523960         0.055   \n",
       "3        41.062130  -81.537840  41.062170  -81.535470         0.123   \n",
       "4        39.172393  -84.492792  39.170476  -84.501798         0.500   \n",
       "...            ...         ...        ...         ...           ...   \n",
       "1048570  39.073344  -94.378826  39.077939  -94.380343         0.328   \n",
       "1048571  41.245766  -74.031937  41.212956  -74.032805         2.267   \n",
       "1048572  35.185344  -80.898465  35.180070  -80.887227         0.732   \n",
       "1048573  25.921157  -80.293117  25.921157  -80.292967         0.009   \n",
       "1048574  38.464179 -121.414198  38.452057 -121.408342         0.895   \n",
       "\n",
       "                                               Description  ...  Roundabout  \\\n",
       "0        Between Sawmill Rd/Exit 20 and OH-315/Olentang...  ...       False   \n",
       "1                       At OH-4/OH-235/Exit 41 - Accident.  ...       False   \n",
       "2                         At I-71/US-50/Exit 1 - Accident.  ...       False   \n",
       "3                          At Dart Ave/Exit 21 - Accident.  ...       False   \n",
       "4                       At Mitchell Ave/Exit 6 - Accident.  ...       False   \n",
       "...                                                    ...  ...         ...   \n",
       "1048570  Stationary traffic on MO-291 - MO-78 from E Gu...  ...       False   \n",
       "1048571  Slow traffic on Palisades Interstate Pkwy S fr...  ...       False   \n",
       "1048572  Slow traffic from W Tyvola Rd (Billy Graham Pk...  ...       False   \n",
       "1048573  Incident on NW 163RD ST EB near NW 57TH AVE Dr...  ...       False   \n",
       "1048574  Accident on Stockton Blvd (CA-99) from Sheldon...  ...       False   \n",
       "\n",
       "        Station   Stop Traffic_Calming Traffic_Signal Turning_Loop  \\\n",
       "0         False  False           False          False        False   \n",
       "1         False  False           False          False        False   \n",
       "2         False  False           False          False        False   \n",
       "3         False  False           False          False        False   \n",
       "4         False  False           False          False        False   \n",
       "...         ...    ...             ...            ...          ...   \n",
       "1048570   False  False           False          False        False   \n",
       "1048571   False  False           False          False        False   \n",
       "1048572   False  False           False          False        False   \n",
       "1048573   False  False           False           True        False   \n",
       "1048574   False  False           False          False        False   \n",
       "\n",
       "        Sunrise_Sunset Civil_Twilight Nautical_Twilight Astronomical_Twilight  \n",
       "0                Night          Night             Night                 Night  \n",
       "1                Night          Night             Night                 Night  \n",
       "2                Night          Night             Night                   Day  \n",
       "3                Night          Night               Day                   Day  \n",
       "4                  Day            Day               Day                   Day  \n",
       "...                ...            ...               ...                   ...  \n",
       "1048570          Night          Night             Night                 Night  \n",
       "1048571            Day            Day               Day                   Day  \n",
       "1048572            Day            Day               Day                   Day  \n",
       "1048573          Night          Night               Day                   Day  \n",
       "1048574            Day            Day               Day                   Day  \n",
       "\n",
       "[1048575 rows x 47 columns]>"
      ]
     },
     "execution_count": 192,
     "metadata": {},
     "output_type": "execute_result"
    }
   ],
   "source": [
    "data.describe"
   ]
  },
  {
   "cell_type": "code",
   "execution_count": 193,
   "id": "9c7b5cde",
   "metadata": {},
   "outputs": [
    {
     "data": {
      "text/plain": [
       "ID                            0\n",
       "Severity                      0\n",
       "Start_Time                    0\n",
       "End_Time                      0\n",
       "Start_Lat                     0\n",
       "Start_Lng                     0\n",
       "End_Lat                       0\n",
       "End_Lng                       0\n",
       "Distance(mi)                  0\n",
       "Description                   0\n",
       "Number                   615177\n",
       "Street                        1\n",
       "Side                          0\n",
       "City                         55\n",
       "County                        0\n",
       "State                         0\n",
       "Zipcode                     435\n",
       "Country                       0\n",
       "Timezone                   1026\n",
       "Airport_Code               3647\n",
       "Weather_Timestamp         15516\n",
       "Temperature(F)            21746\n",
       "Wind_Chill(F)            214122\n",
       "Humidity(%)               22728\n",
       "Pressure(in)              18585\n",
       "Visibility(mi)            22534\n",
       "Wind_Direction            22626\n",
       "Wind_Speed(mph)           57687\n",
       "Precipitation(in)        231683\n",
       "Weather_Condition         22892\n",
       "Amenity                       0\n",
       "Bump                          0\n",
       "Crossing                      0\n",
       "Give_Way                      0\n",
       "Junction                      0\n",
       "No_Exit                       0\n",
       "Railway                       0\n",
       "Roundabout                    0\n",
       "Station                       0\n",
       "Stop                          0\n",
       "Traffic_Calming               0\n",
       "Traffic_Signal                0\n",
       "Turning_Loop                  0\n",
       "Sunrise_Sunset             1662\n",
       "Civil_Twilight             1662\n",
       "Nautical_Twilight          1662\n",
       "Astronomical_Twilight      1662\n",
       "dtype: int64"
      ]
     },
     "execution_count": 193,
     "metadata": {},
     "output_type": "execute_result"
    }
   ],
   "source": [
    "## finding missing values\n",
    "data.isna().sum()"
   ]
  },
  {
   "cell_type": "code",
   "execution_count": 194,
   "id": "fd9c886f",
   "metadata": {},
   "outputs": [
    {
     "data": {
      "text/plain": [
       "Number                   615177\n",
       "Precipitation(in)        231683\n",
       "Wind_Chill(F)            214122\n",
       "Wind_Speed(mph)           57687\n",
       "Weather_Condition         22892\n",
       "Humidity(%)               22728\n",
       "Wind_Direction            22626\n",
       "Visibility(mi)            22534\n",
       "Temperature(F)            21746\n",
       "Pressure(in)              18585\n",
       "Weather_Timestamp         15516\n",
       "Airport_Code               3647\n",
       "Nautical_Twilight          1662\n",
       "Civil_Twilight             1662\n",
       "Sunrise_Sunset             1662\n",
       "Astronomical_Twilight      1662\n",
       "Timezone                   1026\n",
       "Zipcode                     435\n",
       "City                         55\n",
       "Street                        1\n",
       "End_Time                      0\n",
       "Start_Time                    0\n",
       "Start_Lat                     0\n",
       "Turning_Loop                  0\n",
       "Give_Way                      0\n",
       "Traffic_Signal                0\n",
       "Traffic_Calming               0\n",
       "Stop                          0\n",
       "Station                       0\n",
       "Roundabout                    0\n",
       "Railway                       0\n",
       "No_Exit                       0\n",
       "Junction                      0\n",
       "Bump                          0\n",
       "Crossing                      0\n",
       "Country                       0\n",
       "Amenity                       0\n",
       "Start_Lng                     0\n",
       "End_Lat                       0\n",
       "End_Lng                       0\n",
       "Distance(mi)                  0\n",
       "Description                   0\n",
       "Severity                      0\n",
       "Side                          0\n",
       "County                        0\n",
       "State                         0\n",
       "ID                            0\n",
       "dtype: int64"
      ]
     },
     "execution_count": 194,
     "metadata": {},
     "output_type": "execute_result"
    }
   ],
   "source": [
    "# sort out missing values columns\n",
    "data.isna().sum().sort_values(ascending=False)"
   ]
  },
  {
   "cell_type": "code",
   "execution_count": 195,
   "id": "ae5cbc3d",
   "metadata": {},
   "outputs": [
    {
     "data": {
      "text/plain": [
       "(1048575, 47)"
      ]
     },
     "execution_count": 195,
     "metadata": {},
     "output_type": "execute_result"
    }
   ],
   "source": [
    "data.shape"
   ]
  },
  {
   "cell_type": "markdown",
   "id": "0fd66d23",
   "metadata": {},
   "source": [
    "## Exploratory Analysis and Visualization¶\n"
   ]
  },
  {
   "cell_type": "code",
   "execution_count": 196,
   "id": "3961e1e9",
   "metadata": {},
   "outputs": [
    {
     "data": {
      "text/plain": [
       "0"
      ]
     },
     "execution_count": 196,
     "metadata": {},
     "output_type": "execute_result"
    }
   ],
   "source": [
    "data['State'][data['Weather_Condition']=='warmer'].value_counts().sum()"
   ]
  },
  {
   "cell_type": "code",
   "execution_count": 197,
   "id": "242d3f4f",
   "metadata": {},
   "outputs": [
    {
     "data": {
      "text/plain": [
       "0"
      ]
     },
     "execution_count": 197,
     "metadata": {},
     "output_type": "execute_result"
    }
   ],
   "source": [
    "data['State'][data['Weather_Condition']=='colder'].value_counts().sum()"
   ]
  },
  {
   "cell_type": "code",
   "execution_count": 198,
   "id": "c79b3789",
   "metadata": {},
   "outputs": [
    {
     "data": {
      "text/plain": [
       "<AxesSubplot:ylabel='Weather_Condition'>"
      ]
     },
     "execution_count": 198,
     "metadata": {},
     "output_type": "execute_result"
    },
    {
     "data": {
      "image/png": "[encoded data removed]",
      "text/plain": [
       "<Figure size 576x1080 with 1 Axes>"
      ]
     },
     "metadata": {},
     "output_type": "display_data"
    }
   ],
   "source": [
    "plt.figure(figsize=(8,15))\n",
    "data.Weather_Condition.value_counts()[:10].plot(kind='pie',autopct='%0.01f%%')"
   ]
  },
  {
   "cell_type": "code",
   "execution_count": 199,
   "id": "7d230cb9",
   "metadata": {},
   "outputs": [
    {
     "data": {
      "text/plain": [
       "0          OH\n",
       "1          OH\n",
       "2          OH\n",
       "3          OH\n",
       "4          OH\n",
       "           ..\n",
       "1048570    MO\n",
       "1048571    NY\n",
       "1048572    NC\n",
       "1048573    FL\n",
       "1048574    CA\n",
       "Name: State, Length: 1048575, dtype: object"
      ]
     },
     "execution_count": 199,
     "metadata": {},
     "output_type": "execute_result"
    }
   ],
   "source": [
    "data['State']"
   ]
  },
  {
   "cell_type": "code",
   "execution_count": 200,
   "id": "cfd8396a",
   "metadata": {},
   "outputs": [
    {
     "data": {
      "text/plain": [
       "CA    265613\n",
       "FL    170235\n",
       "TX     62244\n",
       "VA     46236\n",
       "NY     42439\n",
       "Name: State, dtype: int64"
      ]
     },
     "execution_count": 200,
     "metadata": {},
     "output_type": "execute_result"
    }
   ],
   "source": [
    "states_by_accident = data.State.value_counts()\n",
    "states_by_accident[:5]"
   ]
  },
  {
   "cell_type": "code",
   "execution_count": 201,
   "id": "a7157c8e",
   "metadata": {},
   "outputs": [
    {
     "data": {
      "text/plain": [
       "Miami            46971\n",
       "Orlando          25984\n",
       "Los Angeles      23048\n",
       "Dallas           18044\n",
       "Houston          16985\n",
       "                 ...  \n",
       "Schroeder            1\n",
       "Silver Gate          1\n",
       "Warden               1\n",
       "Sandy Level          1\n",
       "Marion Center        1\n",
       "Name: City, Length: 10077, dtype: int64"
      ]
     },
     "execution_count": 201,
     "metadata": {},
     "output_type": "execute_result"
    }
   ],
   "source": [
    "data.City.value_counts()"
   ]
  },
  {
   "cell_type": "code",
   "execution_count": 202,
   "id": "bdcad7b1",
   "metadata": {},
   "outputs": [
    {
     "data": {
      "image/png": "[encoded data removed]",
      "text/plain": [
       "<Figure size 504x504 with 1 Axes>"
      ]
     },
     "metadata": {},
     "output_type": "display_data"
    }
   ],
   "source": [
    "#states having highest numbers of Accidents\n",
    "high_s=list(high_accident_cities.keys())\n",
    "state_list=[]\n",
    "for i in range(len(high_s)):\n",
    "    state_list.append(data.State[i])\n",
    "state_list=list(state_list)\n",
    "state_unique_list=list(set(state_list))\n",
    "\n",
    "state_unique_list_counts=[]\n",
    "\n",
    "for s in state_unique_list:\n",
    "    state_unique_list_counts.append(state_list.count(s))\n",
    "state_unique_list_counts\n",
    "\n",
    "import matplotlib.pyplot as plt\n",
    "\n",
    "myexplode=[0, 0, 0, 0,0.2,0]\n",
    "plt.figure(figsize=(7,7))\n",
    "plt.pie(state_unique_list_counts,labels=state_unique_list,autopct='%0.01f%%',explode = myexplode)\n",
    "plt.show()"
   ]
  },
  {
   "cell_type": "code",
   "execution_count": 203,
   "id": "730b4b10",
   "metadata": {},
   "outputs": [
    {
     "data": {
      "text/plain": [
       "False"
      ]
     },
     "execution_count": 203,
     "metadata": {},
     "output_type": "execute_result"
    }
   ],
   "source": [
    "\"New York\" in data.City"
   ]
  },
  {
   "cell_type": "code",
   "execution_count": 204,
   "id": "c2e08535",
   "metadata": {},
   "outputs": [
    {
     "data": {
      "text/plain": [
       "False"
      ]
     },
     "execution_count": 204,
     "metadata": {},
     "output_type": "execute_result"
    }
   ],
   "source": [
    "\"N Y\" in data.State"
   ]
  },
  {
   "cell_type": "code",
   "execution_count": 205,
   "id": "1b5973af",
   "metadata": {},
   "outputs": [
    {
     "data": {
      "image/png": "[encoded data removed]",
      "text/plain": [
       "<Figure size 864x504 with 1 Axes>"
      ]
     },
     "metadata": {},
     "output_type": "display_data"
    }
   ],
   "source": [
    "# Among the top 100 cities in number of accidents ,which states do they belong the most frequently\n",
    "top_100_cities=list(cities_by_accident[:100].keys())\n",
    "# for city in top_100_cities:\n",
    "state_list_2=[]\n",
    "for i in range(len(top_100_cities)):\n",
    "    state_list_2.append(data.State[i])\n",
    "s2=list(set(state_list_2))\n",
    "nlis=[]\n",
    "for state in s2:\n",
    "    nlis.append(state_list_2.count(state))\n",
    "plt.figure(figsize=(12,7))\n",
    "plt.barh(s2,nlis,color=['blue','yellow','orange','red','Pink','green'])\n",
    "plt.show()"
   ]
  },
  {
   "cell_type": "code",
   "execution_count": 206,
   "id": "45c04851",
   "metadata": {},
   "outputs": [],
   "source": [
    "cities = data.groupby(['State', 'City'])"
   ]
  },
  {
   "cell_type": "code",
   "execution_count": 207,
   "id": "8db60172",
   "metadata": {},
   "outputs": [
    {
     "data": {
      "text/html": [
       "<div>\n",
       "<style scoped>\n",
       "    .dataframe tbody tr th:only-of-type {\n",
       "        vertical-align: middle;\n",
       "    }\n",
       "\n",
       "    .dataframe tbody tr th {\n",
       "        vertical-align: top;\n",
       "    }\n",
       "\n",
       "    .dataframe thead th {\n",
       "        text-align: right;\n",
       "    }\n",
       "</style>\n",
       "<table border=\"1\" class=\"dataframe\">\n",
       "  <thead>\n",
       "    <tr style=\"text-align: right;\">\n",
       "      <th></th>\n",
       "      <th></th>\n",
       "      <th>ID</th>\n",
       "      <th>Severity</th>\n",
       "      <th>Start_Time</th>\n",
       "      <th>End_Time</th>\n",
       "      <th>Start_Lat</th>\n",
       "      <th>Start_Lng</th>\n",
       "      <th>End_Lat</th>\n",
       "      <th>End_Lng</th>\n",
       "      <th>Distance(mi)</th>\n",
       "      <th>Description</th>\n",
       "      <th>...</th>\n",
       "      <th>Roundabout</th>\n",
       "      <th>Station</th>\n",
       "      <th>Stop</th>\n",
       "      <th>Traffic_Calming</th>\n",
       "      <th>Traffic_Signal</th>\n",
       "      <th>Turning_Loop</th>\n",
       "      <th>Sunrise_Sunset</th>\n",
       "      <th>Civil_Twilight</th>\n",
       "      <th>Nautical_Twilight</th>\n",
       "      <th>Astronomical_Twilight</th>\n",
       "    </tr>\n",
       "    <tr>\n",
       "      <th>State</th>\n",
       "      <th>City</th>\n",
       "      <th></th>\n",
       "      <th></th>\n",
       "      <th></th>\n",
       "      <th></th>\n",
       "      <th></th>\n",
       "      <th></th>\n",
       "      <th></th>\n",
       "      <th></th>\n",
       "      <th></th>\n",
       "      <th></th>\n",
       "      <th></th>\n",
       "      <th></th>\n",
       "      <th></th>\n",
       "      <th></th>\n",
       "      <th></th>\n",
       "      <th></th>\n",
       "      <th></th>\n",
       "      <th></th>\n",
       "      <th></th>\n",
       "      <th></th>\n",
       "      <th></th>\n",
       "    </tr>\n",
       "  </thead>\n",
       "  <tbody>\n",
       "    <tr>\n",
       "      <th rowspan=\"5\" valign=\"top\">AL</th>\n",
       "      <th>Abbeville</th>\n",
       "      <td>2</td>\n",
       "      <td>2</td>\n",
       "      <td>2</td>\n",
       "      <td>2</td>\n",
       "      <td>2</td>\n",
       "      <td>2</td>\n",
       "      <td>2</td>\n",
       "      <td>2</td>\n",
       "      <td>2</td>\n",
       "      <td>2</td>\n",
       "      <td>...</td>\n",
       "      <td>2</td>\n",
       "      <td>2</td>\n",
       "      <td>2</td>\n",
       "      <td>2</td>\n",
       "      <td>2</td>\n",
       "      <td>2</td>\n",
       "      <td>2</td>\n",
       "      <td>2</td>\n",
       "      <td>2</td>\n",
       "      <td>2</td>\n",
       "    </tr>\n",
       "    <tr>\n",
       "      <th>Alabaster</th>\n",
       "      <td>83</td>\n",
       "      <td>83</td>\n",
       "      <td>83</td>\n",
       "      <td>83</td>\n",
       "      <td>83</td>\n",
       "      <td>83</td>\n",
       "      <td>83</td>\n",
       "      <td>83</td>\n",
       "      <td>83</td>\n",
       "      <td>83</td>\n",
       "      <td>...</td>\n",
       "      <td>83</td>\n",
       "      <td>83</td>\n",
       "      <td>83</td>\n",
       "      <td>83</td>\n",
       "      <td>83</td>\n",
       "      <td>83</td>\n",
       "      <td>83</td>\n",
       "      <td>83</td>\n",
       "      <td>83</td>\n",
       "      <td>83</td>\n",
       "    </tr>\n",
       "    <tr>\n",
       "      <th>Albertville</th>\n",
       "      <td>2</td>\n",
       "      <td>2</td>\n",
       "      <td>2</td>\n",
       "      <td>2</td>\n",
       "      <td>2</td>\n",
       "      <td>2</td>\n",
       "      <td>2</td>\n",
       "      <td>2</td>\n",
       "      <td>2</td>\n",
       "      <td>2</td>\n",
       "      <td>...</td>\n",
       "      <td>2</td>\n",
       "      <td>2</td>\n",
       "      <td>2</td>\n",
       "      <td>2</td>\n",
       "      <td>2</td>\n",
       "      <td>2</td>\n",
       "      <td>2</td>\n",
       "      <td>2</td>\n",
       "      <td>2</td>\n",
       "      <td>2</td>\n",
       "    </tr>\n",
       "    <tr>\n",
       "      <th>Alexander City</th>\n",
       "      <td>2</td>\n",
       "      <td>2</td>\n",
       "      <td>2</td>\n",
       "      <td>2</td>\n",
       "      <td>2</td>\n",
       "      <td>2</td>\n",
       "      <td>2</td>\n",
       "      <td>2</td>\n",
       "      <td>2</td>\n",
       "      <td>2</td>\n",
       "      <td>...</td>\n",
       "      <td>2</td>\n",
       "      <td>2</td>\n",
       "      <td>2</td>\n",
       "      <td>2</td>\n",
       "      <td>2</td>\n",
       "      <td>2</td>\n",
       "      <td>2</td>\n",
       "      <td>2</td>\n",
       "      <td>2</td>\n",
       "      <td>2</td>\n",
       "    </tr>\n",
       "    <tr>\n",
       "      <th>Alexandria</th>\n",
       "      <td>1</td>\n",
       "      <td>1</td>\n",
       "      <td>1</td>\n",
       "      <td>1</td>\n",
       "      <td>1</td>\n",
       "      <td>1</td>\n",
       "      <td>1</td>\n",
       "      <td>1</td>\n",
       "      <td>1</td>\n",
       "      <td>1</td>\n",
       "      <td>...</td>\n",
       "      <td>1</td>\n",
       "      <td>1</td>\n",
       "      <td>1</td>\n",
       "      <td>1</td>\n",
       "      <td>1</td>\n",
       "      <td>1</td>\n",
       "      <td>1</td>\n",
       "      <td>1</td>\n",
       "      <td>1</td>\n",
       "      <td>1</td>\n",
       "    </tr>\n",
       "    <tr>\n",
       "      <th>...</th>\n",
       "      <th>...</th>\n",
       "      <td>...</td>\n",
       "      <td>...</td>\n",
       "      <td>...</td>\n",
       "      <td>...</td>\n",
       "      <td>...</td>\n",
       "      <td>...</td>\n",
       "      <td>...</td>\n",
       "      <td>...</td>\n",
       "      <td>...</td>\n",
       "      <td>...</td>\n",
       "      <td>...</td>\n",
       "      <td>...</td>\n",
       "      <td>...</td>\n",
       "      <td>...</td>\n",
       "      <td>...</td>\n",
       "      <td>...</td>\n",
       "      <td>...</td>\n",
       "      <td>...</td>\n",
       "      <td>...</td>\n",
       "      <td>...</td>\n",
       "      <td>...</td>\n",
       "    </tr>\n",
       "    <tr>\n",
       "      <th rowspan=\"5\" valign=\"top\">WY</th>\n",
       "      <th>Tie Siding</th>\n",
       "      <td>1</td>\n",
       "      <td>1</td>\n",
       "      <td>1</td>\n",
       "      <td>1</td>\n",
       "      <td>1</td>\n",
       "      <td>1</td>\n",
       "      <td>1</td>\n",
       "      <td>1</td>\n",
       "      <td>1</td>\n",
       "      <td>1</td>\n",
       "      <td>...</td>\n",
       "      <td>1</td>\n",
       "      <td>1</td>\n",
       "      <td>1</td>\n",
       "      <td>1</td>\n",
       "      <td>1</td>\n",
       "      <td>1</td>\n",
       "      <td>1</td>\n",
       "      <td>1</td>\n",
       "      <td>1</td>\n",
       "      <td>1</td>\n",
       "    </tr>\n",
       "    <tr>\n",
       "      <th>Wamsutter</th>\n",
       "      <td>40</td>\n",
       "      <td>40</td>\n",
       "      <td>40</td>\n",
       "      <td>40</td>\n",
       "      <td>40</td>\n",
       "      <td>40</td>\n",
       "      <td>40</td>\n",
       "      <td>40</td>\n",
       "      <td>40</td>\n",
       "      <td>40</td>\n",
       "      <td>...</td>\n",
       "      <td>40</td>\n",
       "      <td>40</td>\n",
       "      <td>40</td>\n",
       "      <td>40</td>\n",
       "      <td>40</td>\n",
       "      <td>40</td>\n",
       "      <td>40</td>\n",
       "      <td>40</td>\n",
       "      <td>40</td>\n",
       "      <td>40</td>\n",
       "    </tr>\n",
       "    <tr>\n",
       "      <th>Wheatland</th>\n",
       "      <td>16</td>\n",
       "      <td>16</td>\n",
       "      <td>16</td>\n",
       "      <td>16</td>\n",
       "      <td>16</td>\n",
       "      <td>16</td>\n",
       "      <td>16</td>\n",
       "      <td>16</td>\n",
       "      <td>16</td>\n",
       "      <td>16</td>\n",
       "      <td>...</td>\n",
       "      <td>16</td>\n",
       "      <td>16</td>\n",
       "      <td>16</td>\n",
       "      <td>16</td>\n",
       "      <td>16</td>\n",
       "      <td>16</td>\n",
       "      <td>16</td>\n",
       "      <td>16</td>\n",
       "      <td>16</td>\n",
       "      <td>16</td>\n",
       "    </tr>\n",
       "    <tr>\n",
       "      <th>Wilson</th>\n",
       "      <td>2</td>\n",
       "      <td>2</td>\n",
       "      <td>2</td>\n",
       "      <td>2</td>\n",
       "      <td>2</td>\n",
       "      <td>2</td>\n",
       "      <td>2</td>\n",
       "      <td>2</td>\n",
       "      <td>2</td>\n",
       "      <td>2</td>\n",
       "      <td>...</td>\n",
       "      <td>2</td>\n",
       "      <td>2</td>\n",
       "      <td>2</td>\n",
       "      <td>2</td>\n",
       "      <td>2</td>\n",
       "      <td>2</td>\n",
       "      <td>2</td>\n",
       "      <td>2</td>\n",
       "      <td>2</td>\n",
       "      <td>2</td>\n",
       "    </tr>\n",
       "    <tr>\n",
       "      <th>Worland</th>\n",
       "      <td>1</td>\n",
       "      <td>1</td>\n",
       "      <td>1</td>\n",
       "      <td>1</td>\n",
       "      <td>1</td>\n",
       "      <td>1</td>\n",
       "      <td>1</td>\n",
       "      <td>1</td>\n",
       "      <td>1</td>\n",
       "      <td>1</td>\n",
       "      <td>...</td>\n",
       "      <td>1</td>\n",
       "      <td>1</td>\n",
       "      <td>1</td>\n",
       "      <td>1</td>\n",
       "      <td>1</td>\n",
       "      <td>1</td>\n",
       "      <td>1</td>\n",
       "      <td>1</td>\n",
       "      <td>1</td>\n",
       "      <td>1</td>\n",
       "    </tr>\n",
       "  </tbody>\n",
       "</table>\n",
       "<p>14100 rows × 45 columns</p>\n",
       "</div>"
      ],
      "text/plain": [
       "                      ID  Severity  Start_Time  End_Time  Start_Lat  \\\n",
       "State City                                                            \n",
       "AL    Abbeville        2         2           2         2          2   \n",
       "      Alabaster       83        83          83        83         83   \n",
       "      Albertville      2         2           2         2          2   \n",
       "      Alexander City   2         2           2         2          2   \n",
       "      Alexandria       1         1           1         1          1   \n",
       "...                   ..       ...         ...       ...        ...   \n",
       "WY    Tie Siding       1         1           1         1          1   \n",
       "      Wamsutter       40        40          40        40         40   \n",
       "      Wheatland       16        16          16        16         16   \n",
       "      Wilson           2         2           2         2          2   \n",
       "      Worland          1         1           1         1          1   \n",
       "\n",
       "                      Start_Lng  End_Lat  End_Lng  Distance(mi)  Description  \\\n",
       "State City                                                                     \n",
       "AL    Abbeville               2        2        2             2            2   \n",
       "      Alabaster              83       83       83            83           83   \n",
       "      Albertville             2        2        2             2            2   \n",
       "      Alexander City          2        2        2             2            2   \n",
       "      Alexandria              1        1        1             1            1   \n",
       "...                         ...      ...      ...           ...          ...   \n",
       "WY    Tie Siding              1        1        1             1            1   \n",
       "      Wamsutter              40       40       40            40           40   \n",
       "      Wheatland              16       16       16            16           16   \n",
       "      Wilson                  2        2        2             2            2   \n",
       "      Worland                 1        1        1             1            1   \n",
       "\n",
       "                      ...  Roundabout  Station  Stop  Traffic_Calming  \\\n",
       "State City            ...                                               \n",
       "AL    Abbeville       ...           2        2     2                2   \n",
       "      Alabaster       ...          83       83    83               83   \n",
       "      Albertville     ...           2        2     2                2   \n",
       "      Alexander City  ...           2        2     2                2   \n",
       "      Alexandria      ...           1        1     1                1   \n",
       "...                   ...         ...      ...   ...              ...   \n",
       "WY    Tie Siding      ...           1        1     1                1   \n",
       "      Wamsutter       ...          40       40    40               40   \n",
       "      Wheatland       ...          16       16    16               16   \n",
       "      Wilson          ...           2        2     2                2   \n",
       "      Worland         ...           1        1     1                1   \n",
       "\n",
       "                      Traffic_Signal  Turning_Loop  Sunrise_Sunset  \\\n",
       "State City                                                           \n",
       "AL    Abbeville                    2             2               2   \n",
       "      Alabaster                   83            83              83   \n",
       "      Albertville                  2             2               2   \n",
       "      Alexander City               2             2               2   \n",
       "      Alexandria                   1             1               1   \n",
       "...                              ...           ...             ...   \n",
       "WY    Tie Siding                   1             1               1   \n",
       "      Wamsutter                   40            40              40   \n",
       "      Wheatland                   16            16              16   \n",
       "      Wilson                       2             2               2   \n",
       "      Worland                      1             1               1   \n",
       "\n",
       "                      Civil_Twilight  Nautical_Twilight  Astronomical_Twilight  \n",
       "State City                                                                      \n",
       "AL    Abbeville                    2                  2                      2  \n",
       "      Alabaster                   83                 83                     83  \n",
       "      Albertville                  2                  2                      2  \n",
       "      Alexander City               2                  2                      2  \n",
       "      Alexandria                   1                  1                      1  \n",
       "...                              ...                ...                    ...  \n",
       "WY    Tie Siding                   1                  1                      1  \n",
       "      Wamsutter                   40                 40                     40  \n",
       "      Wheatland                   16                 16                     16  \n",
       "      Wilson                       2                  2                      2  \n",
       "      Worland                      1                  1                      1  \n",
       "\n",
       "[14100 rows x 45 columns]"
      ]
     },
     "execution_count": 207,
     "metadata": {},
     "output_type": "execute_result"
    }
   ],
   "source": [
    "cities.count()"
   ]
  },
  {
   "cell_type": "code",
   "execution_count": 216,
   "id": "c70cb6e2",
   "metadata": {},
   "outputs": [
    {
     "data": {
      "text/plain": [
       "0          2016-02-08 00:37:00\n",
       "1          2016-02-08 05:56:00\n",
       "2          2016-02-08 06:15:00\n",
       "3          2016-02-08 06:51:00\n",
       "4          2016-02-08 07:53:00\n",
       "                  ...         \n",
       "1048570    2021-08-14 22:52:00\n",
       "1048571    2021-07-28 07:40:00\n",
       "1048572    2021-10-21 10:48:00\n",
       "1048573    2021-11-12 18:15:00\n",
       "1048574    2021-10-12 12:35:00\n",
       "Name: Start_Time, Length: 1048575, dtype: object"
      ]
     },
     "execution_count": 216,
     "metadata": {},
     "output_type": "execute_result"
    }
   ],
   "source": [
    "data.Start_Time"
   ]
  },
  {
   "cell_type": "code",
   "execution_count": 217,
   "id": "a3899ae5",
   "metadata": {},
   "outputs": [],
   "source": [
    "import datetime as dt"
   ]
  },
  {
   "cell_type": "code",
   "execution_count": null,
   "id": "f179441d",
   "metadata": {},
   "outputs": [],
   "source": [
    "#converting in datetime object\n",
    "data.Start_Time=pd.to_datetime(data.Start_Time)\n",
    "data.Start_Time[4]"
   ]
  },
  {
   "cell_type": "code",
   "execution_count": null,
   "id": "7351b0b6",
   "metadata": {},
   "outputs": [],
   "source": [
    "sns.distplot(data['Start_Time'].dt.hour,bins=24)"
   ]
  },
  {
   "cell_type": "code",
   "execution_count": null,
   "id": "993277bf",
   "metadata": {},
   "outputs": [],
   "source": [
    "import seaborn as sns\n",
    "sns.set_style(\"darkgrid\")\n",
    "sns.distplot(data.Start_Time.dt.hour, bins=24, kde=False, norm_hist=True)"
   ]
  },
  {
   "cell_type": "code",
   "execution_count": null,
   "id": "cefa709c",
   "metadata": {},
   "outputs": [],
   "source": [
    "sns.distplot(data.Start_Time.dt.dayofweek, bins=7, kde=False, norm_hist=True)"
   ]
  },
  {
   "cell_type": "code",
   "execution_count": null,
   "id": "3cd35cea",
   "metadata": {},
   "outputs": [],
   "source": [
    "mondays_start_time = data.Start_Time[data.Start_Time.dt.dayofweek == 0]\n",
    "sns.distplot(mondays_start_time.dt.hour, bins=24, kde=False, norm_hist=True)"
   ]
  },
  {
   "cell_type": "code",
   "execution_count": null,
   "id": "ad355646",
   "metadata": {},
   "outputs": [],
   "source": [
    "# checking for the perticular year 2020 \n",
    "data_2020=data[data.Start_Time.dt.year==2020]\n",
    "sns.distplot(data_2020.Start_Time.dt.month,norm_hist=True,kde=False,bins=12)"
   ]
  },
  {
   "cell_type": "code",
   "execution_count": null,
   "id": "4dd42ff9",
   "metadata": {},
   "outputs": [],
   "source": [
    "# checking for the perticular year 2019 to understand above trend\n",
    "data_2021=data[data.Start_Time.dt.year==2021]\n",
    "sns.distplot(data_2021.Start_Time.dt.month,norm_hist=True,kde=False,bins=12)"
   ]
  },
  {
   "cell_type": "code",
   "execution_count": null,
   "id": "b5c8019b",
   "metadata": {},
   "outputs": [],
   "source": [
    "sns.distplot(data.Start_Time.dt.month, bins=12, kde=False, norm_hist=True)"
   ]
  },
  {
   "cell_type": "code",
   "execution_count": 229,
   "id": "ead56fa3",
   "metadata": {},
   "outputs": [
    {
     "data": {
      "text/plain": [
       "0                Dublin\n",
       "1                Dayton\n",
       "2            Cincinnati\n",
       "3                 Akron\n",
       "4            Cincinnati\n",
       "               ...     \n",
       "1048570    Independence\n",
       "1048571     Stony Point\n",
       "1048572       Charlotte\n",
       "1048573     Miami Lakes\n",
       "1048574      Sacramento\n",
       "Name: City, Length: 1048575, dtype: object"
      ]
     },
     "execution_count": 229,
     "metadata": {},
     "output_type": "execute_result"
    }
   ],
   "source": [
    "data.City"
   ]
  },
  {
   "cell_type": "code",
   "execution_count": 230,
   "id": "776673e3",
   "metadata": {},
   "outputs": [
    {
     "data": {
      "text/plain": [
       "10078"
      ]
     },
     "execution_count": 230,
     "metadata": {},
     "output_type": "execute_result"
    }
   ],
   "source": [
    "cities = data.City.unique()\n",
    "len(cities)"
   ]
  },
  {
   "cell_type": "code",
   "execution_count": 231,
   "id": "a73a74c0",
   "metadata": {},
   "outputs": [
    {
     "data": {
      "text/plain": [
       "Miami            46971\n",
       "Orlando          25984\n",
       "Los Angeles      23048\n",
       "Dallas           18044\n",
       "Houston          16985\n",
       "                 ...  \n",
       "Schroeder            1\n",
       "Silver Gate          1\n",
       "Warden               1\n",
       "Sandy Level          1\n",
       "Marion Center        1\n",
       "Name: City, Length: 10077, dtype: int64"
      ]
     },
     "execution_count": 231,
     "metadata": {},
     "output_type": "execute_result"
    }
   ],
   "source": [
    "cities_by_accident = data.City.value_counts()\n",
    "cities_by_accident"
   ]
  },
  {
   "cell_type": "code",
   "execution_count": 232,
   "id": "f7193b93",
   "metadata": {},
   "outputs": [
    {
     "data": {
      "text/plain": [
       "<AxesSubplot:>"
      ]
     },
     "execution_count": 232,
     "metadata": {},
     "output_type": "execute_result"
    },
    {
     "data": {
      "image/png": "[encoded data removed]",
      "text/plain": [
       "<Figure size 432x288 with 1 Axes>"
      ]
     },
     "metadata": {},
     "output_type": "display_data"
    }
   ],
   "source": [
    "cities_by_accident[:20].plot(kind='barh')"
   ]
  },
  {
   "cell_type": "code",
   "execution_count": 233,
   "id": "b3b79d52",
   "metadata": {},
   "outputs": [],
   "source": [
    "high_accident_cities = cities_by_accident[cities_by_accident >= 1000]\n",
    "low_accident_cities = cities_by_accident[cities_by_accident < 1000]"
   ]
  },
  {
   "cell_type": "code",
   "execution_count": 234,
   "id": "57aaf27e",
   "metadata": {},
   "outputs": [
    {
     "data": {
      "text/plain": [
       "0.01418932327842826"
      ]
     },
     "execution_count": 234,
     "metadata": {},
     "output_type": "execute_result"
    }
   ],
   "source": [
    "len(high_accident_cities) / len(cities)"
   ]
  },
  {
   "cell_type": "code",
   "execution_count": 235,
   "id": "2b57f9f4",
   "metadata": {},
   "outputs": [
    {
     "data": {
      "text/plain": [
       "<AxesSubplot:xlabel='City', ylabel='Count'>"
      ]
     },
     "execution_count": 235,
     "metadata": {},
     "output_type": "execute_result"
    },
    {
     "data": {
      "image/png": "[encoded data removed]",
      "text/plain": [
       "<Figure size 432x288 with 1 Axes>"
      ]
     },
     "metadata": {},
     "output_type": "display_data"
    }
   ],
   "source": [
    "sns.histplot(high_accident_cities, log_scale=True)"
   ]
  },
  {
   "cell_type": "markdown",
   "id": "b738a160",
   "metadata": {},
   "source": [
    "## Q1) Are there more accidents in warmer or colder areas?"
   ]
  },
  {
   "cell_type": "code",
   "execution_count": 237,
   "id": "6d9d2701",
   "metadata": {},
   "outputs": [],
   "source": [
    "## Ans :- Warmer - 0\n",
    "## colder - 0"
   ]
  },
  {
   "cell_type": "markdown",
   "id": "ed17e487",
   "metadata": {},
   "source": [
    "## Q2) Which 5 states have the highest number of accidents?"
   ]
  },
  {
   "cell_type": "code",
   "execution_count": 239,
   "id": "7829c234",
   "metadata": {},
   "outputs": [],
   "source": [
    "## California, Florida, Texas, Oregon, Virginia."
   ]
  },
  {
   "cell_type": "markdown",
   "id": "d85142b9",
   "metadata": {},
   "source": [
    "## Q3) Does New York show up in the data? If yes, why is the count lower if this is the most populated city."
   ]
  },
  {
   "cell_type": "code",
   "execution_count": 240,
   "id": "c2539e71",
   "metadata": {},
   "outputs": [
    {
     "data": {
      "text/plain": [
       "False"
      ]
     },
     "execution_count": 240,
     "metadata": {},
     "output_type": "execute_result"
    }
   ],
   "source": [
    "\"New York\" in data.City"
   ]
  },
  {
   "cell_type": "code",
   "execution_count": 241,
   "id": "2155e4b2",
   "metadata": {},
   "outputs": [
    {
     "data": {
      "text/plain": [
       "False"
      ]
     },
     "execution_count": 241,
     "metadata": {},
     "output_type": "execute_result"
    }
   ],
   "source": [
    "\"N Y\" in data.State"
   ]
  },
  {
   "cell_type": "markdown",
   "id": "5787ef66",
   "metadata": {},
   "source": [
    "## Q4) Among the top 100 cities in number of accidents, which states do they belong to most frequently."
   ]
  },
  {
   "cell_type": "code",
   "execution_count": 242,
   "id": "59048c16",
   "metadata": {},
   "outputs": [],
   "source": [
    "#  Miami, Los Angeles, Orlando, Dallas, Houston. "
   ]
  },
  {
   "cell_type": "markdown",
   "id": "02418fc4",
   "metadata": {},
   "source": [
    "## Q5) What time of the day are accidents most frequent? "
   ]
  },
  {
   "cell_type": "code",
   "execution_count": 243,
   "id": "8395b6f0",
   "metadata": {},
   "outputs": [],
   "source": [
    "# 11am to 7pm"
   ]
  },
  {
   "cell_type": "markdown",
   "id": "c9e864ad",
   "metadata": {},
   "source": [
    "## Q6) Which days of the week have the most accidents?"
   ]
  },
  {
   "cell_type": "code",
   "execution_count": 244,
   "id": "49421817",
   "metadata": {},
   "outputs": [],
   "source": [
    "# Monday"
   ]
  },
  {
   "cell_type": "markdown",
   "id": "cf533af2",
   "metadata": {},
   "source": [
    "## Q7) Which months have the most accidents?"
   ]
  },
  {
   "cell_type": "code",
   "execution_count": 245,
   "id": "371698c0",
   "metadata": {},
   "outputs": [],
   "source": [
    "# December has the most number of accidents."
   ]
  },
  {
   "cell_type": "markdown",
   "id": "0a54a969",
   "metadata": {},
   "source": [
    "## Q8) What is the trend of accidents year over year (decreasing/increasing?)"
   ]
  },
  {
   "cell_type": "code",
   "execution_count": 246,
   "id": "52cb4dee",
   "metadata": {},
   "outputs": [],
   "source": [
    "# It is exponentially increasing"
   ]
  },
  {
   "cell_type": "code",
   "execution_count": null,
   "id": "31cba0d4",
   "metadata": {},
   "outputs": [],
   "source": []
  }
 ],
 "metadata": {
  "kernelspec": {
   "display_name": "Python 3 (ipykernel)",
   "language": "python",
   "name": "python3"
  },
  "language_info": {
   "codemirror_mode": {
    "name": "ipython",
    "version": 3
   },
   "file_extension": ".py",
   "mimetype": "text/x-python",
   "name": "python",
   "nbconvert_exporter": "python",
   "pygments_lexer": "ipython3",
   "version": "3.9.12"
  }
 },
 "nbformat": 4,
 "nbformat_minor": 5
}
